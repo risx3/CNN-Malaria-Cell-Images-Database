{
 "cells": [
  {
   "cell_type": "markdown",
   "execution_count": null,
   "metadata": {
    "papermill": {
     "duration": 0.008155,
     "end_time": "2020-08-31T15:29:58.671363",
     "exception": false,
     "start_time": "2020-08-31T15:29:58.663208",
     "status": "completed"
    },
    "tags": []
   },
   "source": [
    "# Malaria Cell Images Dataset"
   ]
  },
  {
   "cell_type": "markdown",
   "execution_count": null,
   "metadata": {
    "papermill": {
     "duration": 0.006638,
     "end_time": "2020-08-31T15:29:58.684796",
     "exception": false,
     "start_time": "2020-08-31T15:29:58.678158",
     "status": "completed"
    },
    "tags": []
   },
   "source": [
    "## Content\n",
    "\n",
    "The dataset contains 2 folders\n",
    "\n",
    "* Infected\n",
    "* Uninfected\n",
    "And a total of 27,558 images.\n",
    "\n",
    "## Acknowledgements\n",
    "This Dataset is taken from the official NIH Website: https://ceb.nlm.nih.gov/repositories/malaria-datasets/\n",
    "And uploaded here, so anybody trying to start working with this dataset can get started immediately, as to download the\n",
    "dataset from NIH website is quite slow.\n",
    "Photo by Егор Камелев on Unsplash\n",
    "https://unsplash.com/@ekamelev\n",
    "\n",
    "## Inspiration\n",
    "Save humans by detecting and deploying Image Cells that contain Malaria or not!"
   ]
  },
  {
   "cell_type": "markdown",
   "execution_count": null,
   "metadata": {
    "papermill": {
     "duration": 0.008526,
     "end_time": "2020-08-31T15:29:58.699849",
     "exception": false,
     "start_time": "2020-08-31T15:29:58.691323",
     "status": "completed"
    },
    "tags": []
   },
   "source": []
  },
  {
   "cell_type": "code",
   "execution_count": 1,
   "metadata": {
    "_cell_guid": "b1076dfc-b9ad-4769-8c92-a6c4dae69d19",
    "_uuid": "8f2839f25d086af736a60e9eeb907d3b93b6e0e5",
    "execution": {
     "iopub.execute_input": "2020-08-31T15:29:58.721271Z",
     "iopub.status.busy": "2020-08-31T15:29:58.720570Z",
     "iopub.status.idle": "2020-08-31T15:30:04.715990Z",
     "shell.execute_reply": "2020-08-31T15:30:04.716641Z"
    },
    "papermill": {
     "duration": 6.009744,
     "end_time": "2020-08-31T15:30:04.716823",
     "exception": false,
     "start_time": "2020-08-31T15:29:58.707079",
     "status": "completed"
    },
    "tags": []
   },
   "outputs": [
    {
     "name": "stdout",
     "output_type": "stream",
     "text": [
      "['Parasitized', 'Uninfected', 'cell_images']\n"
     ]
    }
   ],
   "source": [
    "import numpy as np\n",
    "import pandas as pd\n",
    "import matplotlib.pyplot as plt\n",
    "\n",
    "import keras\n",
    "from keras import Sequential\n",
    "from keras.layers import Conv2D,MaxPool2D,Dropout,Flatten,Dense,BatchNormalization\n",
    "from keras.preprocessing.image import ImageDataGenerator\n",
    "\n",
    "from PIL import Image\n",
    "\n",
    "import os\n",
    "print(os.listdir(\"../input/cell-images-for-detecting-malaria/cell_images\"))"
   ]
  },
  {
   "cell_type": "markdown",
   "execution_count": null,
   "metadata": {
    "papermill": {
     "duration": 0.006715,
     "end_time": "2020-08-31T15:30:04.731646",
     "exception": false,
     "start_time": "2020-08-31T15:30:04.724931",
     "status": "completed"
    },
    "tags": []
   },
   "source": [
    "### Set image size"
   ]
  },
  {
   "cell_type": "code",
   "execution_count": 2,
   "metadata": {
    "_cell_guid": "79c7e3d0-c299-4dcb-8224-4455121ee9b0",
    "_uuid": "d629ff2d2480ee46fbb7e2d37f6b5fab8052498a",
    "execution": {
     "iopub.execute_input": "2020-08-31T15:30:04.751009Z",
     "iopub.status.busy": "2020-08-31T15:30:04.749439Z",
     "iopub.status.idle": "2020-08-31T15:30:04.752210Z",
     "shell.execute_reply": "2020-08-31T15:30:04.752762Z"
    },
    "papermill": {
     "duration": 0.014474,
     "end_time": "2020-08-31T15:30:04.752877",
     "exception": false,
     "start_time": "2020-08-31T15:30:04.738403",
     "status": "completed"
    },
    "tags": []
   },
   "outputs": [],
   "source": [
    "width = 128\n",
    "height = 128"
   ]
  },
  {
   "cell_type": "markdown",
   "execution_count": null,
   "metadata": {
    "papermill": {
     "duration": 0.006516,
     "end_time": "2020-08-31T15:30:04.765962",
     "exception": false,
     "start_time": "2020-08-31T15:30:04.759446",
     "status": "completed"
    },
    "tags": []
   },
   "source": [
    "### Let's have a look at our data"
   ]
  },
  {
   "cell_type": "code",
   "execution_count": 3,
   "metadata": {
    "execution": {
     "iopub.execute_input": "2020-08-31T15:30:04.784756Z",
     "iopub.status.busy": "2020-08-31T15:30:04.783262Z",
     "iopub.status.idle": "2020-08-31T15:30:04.785957Z",
     "shell.execute_reply": "2020-08-31T15:30:04.786458Z"
    },
    "papermill": {
     "duration": 0.01373,
     "end_time": "2020-08-31T15:30:04.786603",
     "exception": false,
     "start_time": "2020-08-31T15:30:04.772873",
     "status": "completed"
    },
    "tags": []
   },
   "outputs": [],
   "source": [
    "infected_folder = '../input/cell-images-for-detecting-malaria/cell_images/Parasitized/'\n",
    "uninfected_folder  = '../input/cell-images-for-detecting-malaria/cell_images/Uninfected/'"
   ]
  },
  {
   "cell_type": "code",
   "execution_count": 4,
   "metadata": {
    "execution": {
     "iopub.execute_input": "2020-08-31T15:30:04.804896Z",
     "iopub.status.busy": "2020-08-31T15:30:04.804242Z",
     "iopub.status.idle": "2020-08-31T15:30:05.551888Z",
     "shell.execute_reply": "2020-08-31T15:30:05.551176Z"
    },
    "papermill": {
     "duration": 0.75855,
     "end_time": "2020-08-31T15:30:05.552029",
     "exception": false,
     "start_time": "2020-08-31T15:30:04.793479",
     "status": "completed"
    },
    "tags": []
   },
   "outputs": [
    {
     "name": "stdout",
     "output_type": "stream",
     "text": [
      "13780\n",
      "13780\n"
     ]
    }
   ],
   "source": [
    "print(len(os.listdir(infected_folder)))\n",
    "print(len(os.listdir(uninfected_folder)))"
   ]
  },
  {
   "cell_type": "markdown",
   "execution_count": null,
   "metadata": {
    "papermill": {
     "duration": 0.006694,
     "end_time": "2020-08-31T15:30:05.566173",
     "exception": false,
     "start_time": "2020-08-31T15:30:05.559479",
     "status": "completed"
    },
    "tags": []
   },
   "source": [
    "## Let's have a look at our data"
   ]
  },
  {
   "cell_type": "code",
   "execution_count": 5,
   "metadata": {
    "execution": {
     "iopub.execute_input": "2020-08-31T15:30:05.586567Z",
     "iopub.status.busy": "2020-08-31T15:30:05.585896Z",
     "iopub.status.idle": "2020-08-31T15:30:05.644076Z",
     "shell.execute_reply": "2020-08-31T15:30:05.643044Z"
    },
    "papermill": {
     "duration": 0.071256,
     "end_time": "2020-08-31T15:30:05.644191",
     "exception": false,
     "start_time": "2020-08-31T15:30:05.572935",
     "status": "completed"
    },
    "tags": []
   },
   "outputs": [],
   "source": [
    "# Infected cell image\n",
    "rand_inf = np.random.randint(0,len(os.listdir(infected_folder)))\n",
    "inf_pic = os.listdir(infected_folder)[rand_inf]\n",
    "\n",
    "#Uninfected cell image\n",
    "rand_uninf = np.random.randint(0,len(os.listdir(uninfected_folder)))\n",
    "uninf_pic = os.listdir(uninfected_folder)[rand_uninf]\n",
    "\n",
    "# Load the images\n",
    "inf_load = Image.open(infected_folder+inf_pic)\n",
    "uninf_load = Image.open(uninfected_folder+uninf_pic)"
   ]
  },
  {
   "cell_type": "code",
   "execution_count": 6,
   "metadata": {
    "execution": {
     "iopub.execute_input": "2020-08-31T15:30:05.666344Z",
     "iopub.status.busy": "2020-08-31T15:30:05.665721Z",
     "iopub.status.idle": "2020-08-31T15:30:06.056435Z",
     "shell.execute_reply": "2020-08-31T15:30:06.057082Z"
    },
    "papermill": {
     "duration": 0.405812,
     "end_time": "2020-08-31T15:30:06.057245",
     "exception": false,
     "start_time": "2020-08-31T15:30:05.651433",
     "status": "completed"
    },
    "tags": []
   },
   "outputs": [
    {
     "data": {
      "text/plain": [
       "Text(0.5, 1.0, 'Uninfected cell')"
      ]
     },
     "execution_count": 6,
     "metadata": {},
     "output_type": "execute_result"
    },
    {
     "data": {
      "image/png": "[encoded data removed]",
      "text/plain": [
       "<Figure size 720x432 with 2 Axes>"
      ]
     },
     "metadata": {
      "needs_background": "light"
     },
     "output_type": "display_data"
    }
   ],
   "source": [
    "# Let's plt these images\n",
    "f = plt.figure(figsize= (10,6))\n",
    "\n",
    "a1 = f.add_subplot(1,2,1)\n",
    "img_plot = plt.imshow(inf_load)\n",
    "a1.set_title('Infected cell')\n",
    "\n",
    "a2 = f.add_subplot(1, 2, 2)\n",
    "img_plot = plt.imshow(uninf_load)\n",
    "a2.set_title('Uninfected cell')"
   ]
  },
  {
   "cell_type": "markdown",
   "execution_count": null,
   "metadata": {
    "papermill": {
     "duration": 0.007949,
     "end_time": "2020-08-31T15:30:06.074577",
     "exception": false,
     "start_time": "2020-08-31T15:30:06.066628",
     "status": "completed"
    },
    "tags": []
   },
   "source": [
    "## Dividing data in train and test"
   ]
  },
  {
   "cell_type": "code",
   "execution_count": 7,
   "metadata": {
    "execution": {
     "iopub.execute_input": "2020-08-31T15:30:06.095450Z",
     "iopub.status.busy": "2020-08-31T15:30:06.094635Z",
     "iopub.status.idle": "2020-08-31T15:30:06.097098Z",
     "shell.execute_reply": "2020-08-31T15:30:06.097628Z"
    },
    "papermill": {
     "duration": 0.014982,
     "end_time": "2020-08-31T15:30:06.097760",
     "exception": false,
     "start_time": "2020-08-31T15:30:06.082778",
     "status": "completed"
    },
    "tags": []
   },
   "outputs": [],
   "source": [
    "datagen = ImageDataGenerator(rescale=1/255.0, validation_split=0.2)"
   ]
  },
  {
   "cell_type": "markdown",
   "execution_count": null,
   "metadata": {
    "papermill": {
     "duration": 0.007775,
     "end_time": "2020-08-31T15:30:06.113119",
     "exception": false,
     "start_time": "2020-08-31T15:30:06.105344",
     "status": "completed"
    },
    "tags": []
   },
   "source": [
    "### Train Data"
   ]
  },
  {
   "cell_type": "code",
   "execution_count": 8,
   "metadata": {
    "execution": {
     "iopub.execute_input": "2020-08-31T15:30:06.134303Z",
     "iopub.status.busy": "2020-08-31T15:30:06.133707Z",
     "iopub.status.idle": "2020-08-31T15:30:12.542285Z",
     "shell.execute_reply": "2020-08-31T15:30:12.543013Z"
    },
    "papermill": {
     "duration": 6.422009,
     "end_time": "2020-08-31T15:30:12.543197",
     "exception": false,
     "start_time": "2020-08-31T15:30:06.121188",
     "status": "completed"
    },
    "tags": []
   },
   "outputs": [
    {
     "name": "stdout",
     "output_type": "stream",
     "text": [
      "Found 22048 images belonging to 2 classes.\n"
     ]
    }
   ],
   "source": [
    "trainDatagen = datagen.flow_from_directory(directory='../input/cell-images-for-detecting-malaria/cell_images/cell_images/',\n",
    "                                           target_size=(width,height),\n",
    "                                           class_mode = 'binary',\n",
    "                                           batch_size = 16,\n",
    "                                           subset='training')"
   ]
  },
  {
   "cell_type": "markdown",
   "execution_count": null,
   "metadata": {
    "papermill": {
     "duration": 0.007511,
     "end_time": "2020-08-31T15:30:12.559558",
     "exception": false,
     "start_time": "2020-08-31T15:30:12.552047",
     "status": "completed"
    },
    "tags": []
   },
   "source": [
    "### Validation Data"
   ]
  },
  {
   "cell_type": "code",
   "execution_count": 9,
   "metadata": {
    "execution": {
     "iopub.execute_input": "2020-08-31T15:30:12.580346Z",
     "iopub.status.busy": "2020-08-31T15:30:12.579711Z",
     "iopub.status.idle": "2020-08-31T15:30:13.018743Z",
     "shell.execute_reply": "2020-08-31T15:30:13.019367Z"
    },
    "papermill": {
     "duration": 0.452194,
     "end_time": "2020-08-31T15:30:13.019557",
     "exception": false,
     "start_time": "2020-08-31T15:30:12.567363",
     "status": "completed"
    },
    "tags": []
   },
   "outputs": [
    {
     "name": "stdout",
     "output_type": "stream",
     "text": [
      "Found 5510 images belonging to 2 classes.\n"
     ]
    }
   ],
   "source": [
    "valDatagen = datagen.flow_from_directory(directory='../input/cell-images-for-detecting-malaria/cell_images/cell_images/',\n",
    "                                           target_size=(width,height),\n",
    "                                           class_mode = 'binary',\n",
    "                                           batch_size = 16,\n",
    "                                           subset='validation')"
   ]
  },
  {
   "cell_type": "markdown",
   "execution_count": null,
   "metadata": {
    "papermill": {
     "duration": 0.008089,
     "end_time": "2020-08-31T15:30:13.037066",
     "exception": false,
     "start_time": "2020-08-31T15:30:13.028977",
     "status": "completed"
    },
    "tags": []
   },
   "source": [
    "## Model"
   ]
  },
  {
   "cell_type": "markdown",
   "execution_count": null,
   "metadata": {
    "papermill": {
     "duration": 0.007867,
     "end_time": "2020-08-31T15:30:13.053494",
     "exception": false,
     "start_time": "2020-08-31T15:30:13.045627",
     "status": "completed"
    },
    "tags": []
   },
   "source": [
    "We will create a CNN model where we will put 128x128 image with 3 channels(RGB) and will get a result as Infected or Uninfected."
   ]
  },
  {
   "cell_type": "code",
   "execution_count": 10,
   "metadata": {
    "execution": {
     "iopub.execute_input": "2020-08-31T15:30:13.080167Z",
     "iopub.status.busy": "2020-08-31T15:30:13.079539Z",
     "iopub.status.idle": "2020-08-31T15:30:16.309839Z",
     "shell.execute_reply": "2020-08-31T15:30:16.309246Z"
    },
    "papermill": {
     "duration": 3.248351,
     "end_time": "2020-08-31T15:30:16.309969",
     "exception": false,
     "start_time": "2020-08-31T15:30:13.061618",
     "status": "completed"
    },
    "tags": []
   },
   "outputs": [],
   "source": [
    "model = Sequential()\n",
    "model.add(Conv2D(16,(3,3),activation='relu',input_shape=(128,128,3)))\n",
    "model.add(MaxPool2D(2,2))\n",
    "model.add(Dropout(0.2))\n",
    "\n",
    "model.add(Conv2D(32,(3,3),activation='relu'))\n",
    "model.add(MaxPool2D(2,2))\n",
    "model.add(Dropout(0.3))\n",
    "\n",
    "model.add(Conv2D(64,(3,3),activation='relu'))\n",
    "model.add(MaxPool2D(2,2))\n",
    "model.add(Dropout(0.3))\n",
    "\n",
    "model.add(Flatten())\n",
    "model.add(Dense(64,activation='relu'))\n",
    "model.add(Dropout(0.5))\n",
    "\n",
    "model.add(Dense(1,activation='sigmoid'))"
   ]
  },
  {
   "cell_type": "markdown",
   "execution_count": null,
   "metadata": {
    "papermill": {
     "duration": 0.007997,
     "end_time": "2020-08-31T15:30:16.326851",
     "exception": false,
     "start_time": "2020-08-31T15:30:16.318854",
     "status": "completed"
    },
    "tags": []
   },
   "source": [
    "## Compile Model"
   ]
  },
  {
   "cell_type": "code",
   "execution_count": 11,
   "metadata": {
    "execution": {
     "iopub.execute_input": "2020-08-31T15:30:16.355718Z",
     "iopub.status.busy": "2020-08-31T15:30:16.354795Z",
     "iopub.status.idle": "2020-08-31T15:30:16.475183Z",
     "shell.execute_reply": "2020-08-31T15:30:16.474121Z"
    },
    "papermill": {
     "duration": 0.140326,
     "end_time": "2020-08-31T15:30:16.475327",
     "exception": false,
     "start_time": "2020-08-31T15:30:16.335001",
     "status": "completed"
    },
    "tags": []
   },
   "outputs": [],
   "source": [
    "model.compile(optimizer='adam',loss='binary_crossentropy',metrics=['accuracy'])"
   ]
  },
  {
   "cell_type": "code",
   "execution_count": 12,
   "metadata": {
    "execution": {
     "iopub.execute_input": "2020-08-31T15:30:16.497150Z",
     "iopub.status.busy": "2020-08-31T15:30:16.496387Z",
     "iopub.status.idle": "2020-08-31T15:47:56.855791Z",
     "shell.execute_reply": "2020-08-31T15:47:56.855249Z"
    },
    "papermill": {
     "duration": 1060.372119,
     "end_time": "2020-08-31T15:47:56.855908",
     "exception": false,
     "start_time": "2020-08-31T15:30:16.483789",
     "status": "completed"
    },
    "tags": []
   },
   "outputs": [
    {
     "name": "stdout",
     "output_type": "stream",
     "text": [
      "Epoch 1/20\n",
      "1378/1378 [==============================] - 107s 78ms/step - loss: 0.5049 - accuracy: 0.7332 - val_loss: 0.1742 - val_accuracy: 0.9334\n",
      "Epoch 2/20\n",
      "1378/1378 [==============================] - 46s 33ms/step - loss: 0.1827 - accuracy: 0.9427 - val_loss: 0.1584 - val_accuracy: 0.9448\n",
      "Epoch 3/20\n",
      "1378/1378 [==============================] - 47s 34ms/step - loss: 0.1616 - accuracy: 0.9514 - val_loss: 0.1635 - val_accuracy: 0.9417\n",
      "Epoch 4/20\n",
      "1378/1378 [==============================] - 46s 33ms/step - loss: 0.1477 - accuracy: 0.9554 - val_loss: 0.1662 - val_accuracy: 0.9434\n",
      "Epoch 5/20\n",
      "1378/1378 [==============================] - 47s 34ms/step - loss: 0.1388 - accuracy: 0.9572 - val_loss: 0.1682 - val_accuracy: 0.9483\n",
      "Epoch 6/20\n",
      "1378/1378 [==============================] - 47s 34ms/step - loss: 0.1326 - accuracy: 0.9590 - val_loss: 0.1872 - val_accuracy: 0.9417\n",
      "Epoch 7/20\n",
      "1378/1378 [==============================] - 48s 35ms/step - loss: 0.1314 - accuracy: 0.9583 - val_loss: 0.1830 - val_accuracy: 0.9475\n",
      "Epoch 8/20\n",
      "1378/1378 [==============================] - 46s 34ms/step - loss: 0.1305 - accuracy: 0.9597 - val_loss: 0.1670 - val_accuracy: 0.9474\n",
      "Epoch 9/20\n",
      "1378/1378 [==============================] - 47s 34ms/step - loss: 0.1236 - accuracy: 0.9589 - val_loss: 0.1799 - val_accuracy: 0.9470\n",
      "Epoch 10/20\n",
      "1378/1378 [==============================] - 49s 36ms/step - loss: 0.1219 - accuracy: 0.9614 - val_loss: 0.1635 - val_accuracy: 0.9439\n",
      "Epoch 11/20\n",
      "1378/1378 [==============================] - 50s 36ms/step - loss: 0.1189 - accuracy: 0.9610 - val_loss: 0.1697 - val_accuracy: 0.9423\n",
      "Epoch 12/20\n",
      "1378/1378 [==============================] - 47s 34ms/step - loss: 0.1184 - accuracy: 0.9601 - val_loss: 0.1735 - val_accuracy: 0.9465\n",
      "Epoch 13/20\n",
      "1378/1378 [==============================] - 44s 32ms/step - loss: 0.1161 - accuracy: 0.9613 - val_loss: 0.1694 - val_accuracy: 0.9461\n",
      "Epoch 14/20\n",
      "1378/1378 [==============================] - 44s 32ms/step - loss: 0.1138 - accuracy: 0.9628 - val_loss: 0.1716 - val_accuracy: 0.9430\n",
      "Epoch 15/20\n",
      "1378/1378 [==============================] - 45s 32ms/step - loss: 0.1126 - accuracy: 0.9628 - val_loss: 0.1640 - val_accuracy: 0.9468\n",
      "Epoch 16/20\n",
      "1378/1378 [==============================] - 45s 33ms/step - loss: 0.1153 - accuracy: 0.9623 - val_loss: 0.1991 - val_accuracy: 0.9432\n",
      "Epoch 17/20\n",
      "1378/1378 [==============================] - 44s 32ms/step - loss: 0.1083 - accuracy: 0.9648 - val_loss: 0.1704 - val_accuracy: 0.9456\n",
      "Epoch 18/20\n",
      "1378/1378 [==============================] - 87s 63ms/step - loss: 0.1072 - accuracy: 0.9630 - val_loss: 0.1772 - val_accuracy: 0.9466\n",
      "Epoch 19/20\n",
      "1378/1378 [==============================] - 71s 52ms/step - loss: 0.1076 - accuracy: 0.9643 - val_loss: 0.1638 - val_accuracy: 0.9452\n",
      "Epoch 20/20\n",
      "1378/1378 [==============================] - 47s 34ms/step - loss: 0.1068 - accuracy: 0.9641 - val_loss: 0.1833 - val_accuracy: 0.9459\n"
     ]
    }
   ],
   "source": [
    "cnn_model = model.fit_generator(generator = trainDatagen,\n",
    "                             steps_per_epoch = len(trainDatagen),\n",
    "                              epochs =20,\n",
    "                              validation_data = valDatagen,\n",
    "                              validation_steps=len(valDatagen))"
   ]
  },
  {
   "cell_type": "markdown",
   "execution_count": null,
   "metadata": {
    "papermill": {
     "duration": 0.775981,
     "end_time": "2020-08-31T15:47:58.426327",
     "exception": false,
     "start_time": "2020-08-31T15:47:57.650346",
     "status": "completed"
    },
    "tags": []
   },
   "source": [
    "#### Accuracy"
   ]
  },
  {
   "cell_type": "code",
   "execution_count": 13,
   "metadata": {
    "execution": {
     "iopub.execute_input": "2020-08-31T15:48:00.026552Z",
     "iopub.status.busy": "2020-08-31T15:48:00.024189Z",
     "iopub.status.idle": "2020-08-31T15:48:00.197753Z",
     "shell.execute_reply": "2020-08-31T15:48:00.196256Z"
    },
    "papermill": {
     "duration": 0.963487,
     "end_time": "2020-08-31T15:48:00.197919",
     "exception": false,
     "start_time": "2020-08-31T15:47:59.234432",
     "status": "completed"
    },
    "tags": []
   },
   "outputs": [
    {
     "data": {
      "image/png": "[encoded data removed]",
      "text/plain": [
       "<Figure size 432x288 with 1 Axes>"
      ]
     },
     "metadata": {
      "needs_background": "light"
     },
     "output_type": "display_data"
    }
   ],
   "source": [
    "plt.plot(cnn_model.history['accuracy'])\n",
    "plt.plot(cnn_model.history['val_accuracy'])\n",
    "plt.title('Model Accuracy')\n",
    "plt.ylabel('Accuracy')\n",
    "plt.xlabel('Epoch')\n",
    "plt.legend(['Training set', 'Validation set'], loc='upper left')\n",
    "plt.show()"
   ]
  },
  {
   "cell_type": "markdown",
   "execution_count": null,
   "metadata": {
    "papermill": {
     "duration": 0.823742,
     "end_time": "2020-08-31T15:48:02.047023",
     "exception": false,
     "start_time": "2020-08-31T15:48:01.223281",
     "status": "completed"
    },
    "tags": []
   },
   "source": [
    "#### Loss"
   ]
  },
  {
   "cell_type": "code",
   "execution_count": 14,
   "metadata": {
    "execution": {
     "iopub.execute_input": "2020-08-31T15:48:03.710746Z",
     "iopub.status.busy": "2020-08-31T15:48:03.708611Z",
     "iopub.status.idle": "2020-08-31T15:48:03.899615Z",
     "shell.execute_reply": "2020-08-31T15:48:03.898933Z"
    },
    "papermill": {
     "duration": 1.057142,
     "end_time": "2020-08-31T15:48:03.899739",
     "exception": false,
     "start_time": "2020-08-31T15:48:02.842597",
     "status": "completed"
    },
    "tags": []
   },
   "outputs": [
    {
     "data": {
      "image/png": "[encoded data removed]",
      "text/plain": [
       "<Figure size 432x288 with 1 Axes>"
      ]
     },
     "metadata": {
      "needs_background": "light"
     },
     "output_type": "display_data"
    }
   ],
   "source": [
    "plt.plot(cnn_model.history['val_loss'])\n",
    "plt.plot(cnn_model.history['loss'])\n",
    "plt.title('Model Loss')\n",
    "plt.ylabel('Loss')\n",
    "plt.xlabel('Epoch')\n",
    "plt.legend(['Training set', 'Test set'], loc='upper left')\n",
    "plt.show()"
   ]
  },
  {
   "cell_type": "code",
   "execution_count": null,
   "metadata": {
    "papermill": {
     "duration": 0.908136,
     "end_time": "2020-08-31T15:48:05.625745",
     "exception": false,
     "start_time": "2020-08-31T15:48:04.717609",
     "status": "completed"
    },
    "tags": []
   },
   "outputs": [],
   "source": []
  }
 ],
 "metadata": {
  "kernelspec": {
   "display_name": "Python 3",
   "language": "python",
   "name": "python3"
  },
  "language_info": {
   "codemirror_mode": {
    "name": "ipython",
    "version": 3
   },
   "file_extension": ".py",
   "mimetype": "text/x-python",
   "name": "python",
   "nbconvert_exporter": "python",
   "pygments_lexer": "ipython3",
   "version": "3.7.6"
  },
  "papermill": {
   "duration": 1093.671226,
   "end_time": "2020-08-31T15:48:07.772634",
   "environment_variables": {},
   "exception": null,
   "input_path": "__notebook__.ipynb",
   "output_path": "__notebook__.ipynb",
   "parameters": {},
   "start_time": "2020-08-31T15:29:54.101408",
   "version": "2.1.0"
  }
 },
 "nbformat": 4,
 "nbformat_minor": 4
}
